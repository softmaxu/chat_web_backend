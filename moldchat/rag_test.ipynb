{
 "cells": [
  {
   "cell_type": "code",
   "execution_count": 1,
   "metadata": {},
   "outputs": [
    {
     "name": "stderr",
     "output_type": "stream",
     "text": [
      "2024-07-08 19:06:24,599 - modelscope - INFO - PyTorch version 2.1.0 Found.\n",
      "2024-07-08 19:06:24,600 - modelscope - INFO - Loading ast index from /data/usr/jy/asset/modelscope/hub/ast_indexer\n",
      "2024-07-08 19:06:24,703 - modelscope - INFO - Loading done! Current index file version is 1.9.2, with md5 0e964997b9816d332d6c9290f1e202b9 and a total number of 941 components indexed\n",
      "/home/jy/anaconda3/envs/baichuan2/lib/python3.11/site-packages/tqdm/auto.py:21: TqdmWarning: IProgress not found. Please update jupyter and ipywidgets. See https://ipywidgets.readthedocs.io/en/stable/user_install.html\n",
      "  from .autonotebook import tqdm as notebook_tqdm\n"
     ]
    }
   ],
   "source": [
    "from llm_adapter import RAG_Chroma"
   ]
  },
  {
   "cell_type": "code",
   "execution_count": 2,
   "metadata": {},
   "outputs": [
    {
     "name": "stderr",
     "output_type": "stream",
     "text": [
      "2024-07-08 19:06:27,756 - INFO - Load pretrained SentenceTransformer: /data/usr/jy/asset/tokenizer/m3e-base\n"
     ]
    },
    {
     "name": "stderr",
     "output_type": "stream",
     "text": [
      "2024-07-08 19:06:28,787 - INFO - Use pytorch device: cuda\n",
      "2024-07-08 19:06:29,190 - DEBUG - Registering provider: token_config\n",
      "2024-07-08 19:06:29,192 - DEBUG - Registering provider: user_token_config\n",
      "2024-07-08 19:06:29,195 - DEBUG - Registering provider: token\n",
      "2024-07-08 19:06:29,196 - DEBUG - Registering provider: token\n",
      "2024-07-08 19:06:29,203 - INFO - Anonymized telemetry enabled. See                     https://docs.trychroma.com/telemetry for more information.\n",
      "2024-07-08 19:06:29,298 - DEBUG - Starting component System\n",
      "2024-07-08 19:06:29,299 - DEBUG - Starting component Posthog\n",
      "2024-07-08 19:06:29,299 - DEBUG - Starting component OpenTelemetryClient\n",
      "2024-07-08 19:06:29,299 - DEBUG - Starting component SimpleAssignmentPolicy\n",
      "2024-07-08 19:06:29,300 - DEBUG - Starting component SqliteDB\n",
      "2024-07-08 19:06:29,643 - DEBUG - Starting component LocalSegmentManager\n",
      "2024-07-08 19:06:29,644 - DEBUG - Starting component SegmentAPI\n",
      "2024-07-08 19:06:30,148 - DEBUG - Starting new HTTPS connection (1): app.posthog.com:443\n",
      "Batches:   0%|          | 0/253 [00:00<?, ?it/s]2024-07-08 19:06:30,813 - DEBUG - https://app.posthog.com:443 \"POST /batch/ HTTP/1.1\" 200 15\n",
      "Batches: 100%|██████████| 253/253 [01:33<00:00,  2.70it/s]\n",
      "2024-07-08 19:08:05,077 - DEBUG - Starting component PersistentLocalHnswSegment\n"
     ]
    }
   ],
   "source": [
    "rag=RAG_Chroma()"
   ]
  },
  {
   "cell_type": "markdown",
   "metadata": {},
   "source": [
    "1. 雷诺发现了管路中液体流动时具有哪两种状态    层流，紊流\n",
    "> 英国物理学家雷诺通过大量实验，发现了液体在管路中流动时存在的两种流动状态--层流和紊流。\n",
    "\n",
    "2. 影响磷酸酯抗燃液压油使用性能和寿命的主要因素有哪些    水解劣化，热裂解劣化及氧化劣化 （水分，高温及氧气）\n",
    "> 由于磷酸酯分子的特殊性，在使用过程中的水分，高温及氧气均会导致磷酸酯抗燃液压油劣化。为此对磷酸酯抗燃液压油的发展和劣化（水解劣化，热裂解劣化及氧化劣化）机制进行了综述\n",
    "\n",
    "3. 航空器上的液压设备为什么要选择闭式回路啊   为减小体积和质量\n",
    "> 对于行走机械和航空航天液压装置，为减小体积和质量，可选择闭式回路，即执行元件的排油直接进入液压泵的进口。\n",
    "\n",
    "4. 零下一百二十摄氏度的环境下使用O形密封圈，应该选用橡胶，聚四氟乙烯，还是空心金属材质的     空心金属\n",
    ">  (1)聚四氟乙烯O形密封圈它比橡胶O形密封圈耐寒、耐热，其使用温度范围为-100～130℃   2)空心金属O形密封圈空心金属O形密封圈是用薄壁不锈钢管或镍合金管焊接而成的高精度环形圈。其密封特点是：1) 适用温度范围广(-250～540℃)。\n",
    "\n",
    "5. NAS 1638固体颗粒污染物按照微粒大小分成了那五个等级\n",
    "> NAS 1638油液固体颗粒污染度等级本标准将油液中的颗粒按尺寸大小分为5~15µm、15~25µm、25~50µm、50~100µm和大于100µm五个尺寸段\n",
    "\n",
    "6. 举一个浙大研究液压的网站\n",
    "> 2、有关网站中国液压气动网（www.yeyanet.com.cn) 浙江大学国家电液控制工程技术研究中心(www.cnehc.com)\n",
    "\n",
    "7. Q2-8液压起重机的特点\n",
    "> Q2－8型汽车起重机的液压系统有如下几个特点。（1）该系统为单泵、开式、串联系统，采用了换向阀串联组合，不仅各机构的动作可以独立进行，而且在轻载作业时，可实现起升和回转复合动作，以提高工作效率。（2）系统中采用了平衡回路、锁紧回路和制动回路，保证了起重机的工作可靠，操作安全。（3）采用了三位四通手动换向阀换向，不仅可以灵活方便地控制换向动作，还可通过手柄操纵来控制流量，实现节流调速。在起升工作中，将此节流调速方法与控制发动机转速的方法结合使用，可以实现各工作部件微速动作。（4）各三位四通手动换向阀均采用了M型中位机能，使换向阀处于中位时能使系统卸荷，可减少系统的功率损失，适宜于起重机进行间歇性工作\n",
    "\n",
    "8. 什么是液压振动\n",
    "> 液压振动指利用液体的压力能在动力系统的供压和伺服阀的控制下实现振动台的上下正玄运动。\n",
    "\n",
    "9. 世界上第一台水压机是由谁在哪里发明的\n",
    "> 1795年英国约瑟夫·布拉曼(Joseph Braman,1749-1814)，在伦敦用水作为工作介质,以水压机的形式将其应用于工业上,诞生了世界上第一台水压机。\n",
    "\n",
    "10. 根据柯兵的研究成果，怎么样减少泵的压力脉动\n",
    "> 柯兵等[33]对柱塞泵的压力脉动抑制方法进行了研究，在系统安装缓冲瓶的基础上，对柱塞目对液压泵的压力脉动的衰减效果进行了试验分析，结果表明，在定转速变流量和定流量变转速条件下，柱塞数为9和11的液压泵最大压力脉动分别为0.3 MPa、1.95 MPa和1.28 MPa、3.3 MPa。因此，选择合理的柱塞数配合缓冲瓶可抑制泵的压力脉动。"
   ]
  },
  {
   "cell_type": "code",
   "execution_count": 24,
   "metadata": {},
   "outputs": [
    {
     "name": "stderr",
     "output_type": "stream",
     "text": [
      "Batches: 100%|██████████| 1/1 [00:00<00:00, 57.20it/s]"
     ]
    },
    {
     "name": "stdout",
     "output_type": "stream",
     "text": [
      "338 字 .2.3 泵的优化设计\n",
      "2013年，柯兵等[33]对柱塞泵的压力脉动抑制方法进行了研究，在系统安装缓冲瓶的基础上，对柱塞目对液压泵的压力脉动的衰减效果进行了试验分析，结果表明，在定转速变流量和定流量变转速条件下，柱塞数为9和11的液压泵最大压力脉动分别为0.3 MPa、1.95 MPa和1.28 MPa、3.3 MPa。因此，选择合理的柱塞数配合缓冲瓶可抑制泵的压力脉动。\n",
      "2019年，单凯凌等[34]针对汽车自动变速器中摆线齿轮泵齿顶间隙对流量脉动影响，通过Pumplinx软件对比分析了不同齿顶间隙条件下油泵的流量脉动特性，研究结果显示，当齿顶间隙分别为0.03 mm、0.06 mm和0.09 mm时，对应的摆线齿轮泵的流量脉动率分别为22.83%、18.13%和15\n",
      "359 字 ：当泵源压力从14 MPa增加至21 MPa，两种回路的压力脉动幅值分别为0.038 MPa和0.053 6 MPa；当泵源压力从14 MPa下降为10 MPa，压力脉动幅值分别为0.020 8 MPa和0.029 4 MPa。由两位学者的研究表明，对于系统压力脉动问题，自适应蓄能器的抑制效果更优。图1 0 自适应蓄能器吸收脉动原理图下载原图\n",
      "2017年，针对100 MPa的超高压工况下的压力脉动，长安大学的杨波等[19,20]设计了一套由柱塞缸、气缸和蓄能器组等构成的气缸式蓄能器(图11)，通过活塞和柱塞的面积比实现减压，试验结果表明，该装置能将超高压工况转化为常规压力工况，并能有效衰减压裂泵的流体脉动，对于机械驱动和液压驱动式的三缸压裂泵，可分别将其流量脉动从23.07%和33.33%衰减至2.42%和3\n",
      "469 字 ：控制输出流量脉动和最优匹配系统阻抗。最优化匹配阻抗需要系统性设计，控制压力脉动的根本是降低系统流量脉动。降低系统流量脉动，首先要选用低噪声液压泵源。常用的液压泵有柱塞泵、叶片泵、螺杆泵和齿轮泵等，基本特性对比如表1所示。柱塞泵是最常用的液压泵，具有额定压力高、结构紧凑、流量调节方便等优点，但其输出流量脉动较大。叶片泵输出流量均匀、运转平稳、噪声低、体积小，但存在结构复杂、吸油特性较差，对油液污染较敏感等缺点。螺杆泵运行平稳，输出流量脉动几乎为零，自吸能力较好，但一般尺寸较大，输出最高压力仅能达到10 MPa。齿轮泵结构简单，体积小、重量轻，自吸能力好，抗油液污染能力高，工作可靠，其主要缺点是输出流量不可调，流量脉动系数较大。为优化流量脉动特性，也有一些新型液压泵可供选择，例如摆线泵、螺旋转子泵等。表1 常见液压泵基本特性对比下载原图\n",
      "Table 1 Comparison of basic characteristics of common hy-draulic pumps\n",
      "同时，可采取有效的脉动衰减措施降低系统中的流量脉动\n",
      "413 字 ：当周期性脉动压力持续作用于仿生膜片时，引起仿生膜片振动，致使其与流体发生耦合作用，产生附加质量，对间隙之间的流体流动产生阻尼，达到抑制脉动的目的。通过对新型的脉动衰减器在不同频率段的抑制效果进行理论和试验对比分析表明，该脉动衰减器对液压系统具有有效的脉动抑制效果，且在400～600 Hz和700～900 Hz的频率范围内，衰减效果最好，平均为11 d B，此外该衰减器还具有结构简单紧凑的优点。图9 仿生脉动衰减器原理图下载原图\n",
      "2016年10月，针对液压泵的流量脉动问题，CHAI等[16]设计了一种可嵌入柱塞泵的脉动衰减器。液压泵的泵体内有两个腔(两个腔连通)，一腔充入加压氮气，另一个腔安装脉动衰减器；脉动衰减器中安装橡胶囊，将衰减器中的氮气和液压油分离，并通过橡胶囊的可压缩性吸收脉动，工作原理与皮囊式蓄能器类似。通过在不同系统压力下进行理论、仿真和试验表明，该衰减器对液压系统中的流体脉动具有大约35%的抑制效果\n"
     ]
    },
    {
     "name": "stderr",
     "output_type": "stream",
     "text": [
      "\n"
     ]
    }
   ],
   "source": [
    "query=\"根据柯兵的研究成果，怎么样减少泵的压力脉动\"\n",
    "rag_docs=rag.query(query)\n",
    "for r in rag_docs:\n",
    "    print(len(r.page_content), \"字\", r.page_content)"
   ]
  }
 ],
 "metadata": {
  "kernelspec": {
   "display_name": "baichuan2",
   "language": "python",
   "name": "python3"
  },
  "language_info": {
   "codemirror_mode": {
    "name": "ipython",
    "version": 3
   },
   "file_extension": ".py",
   "mimetype": "text/x-python",
   "name": "python",
   "nbconvert_exporter": "python",
   "pygments_lexer": "ipython3",
   "version": "3.11.5"
  }
 },
 "nbformat": 4,
 "nbformat_minor": 2
}
