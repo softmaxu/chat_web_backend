{
 "cells": [
  {
   "cell_type": "code",
   "execution_count": 1,
   "metadata": {},
   "outputs": [
    {
     "name": "stderr",
     "output_type": "stream",
     "text": [
      "2024-07-08 19:06:24,599 - modelscope - INFO - PyTorch version 2.1.0 Found.\n",
      "2024-07-08 19:06:24,600 - modelscope - INFO - Loading ast index from /data/usr/jy/asset/modelscope/hub/ast_indexer\n",
      "2024-07-08 19:06:24,703 - modelscope - INFO - Loading done! Current index file version is 1.9.2, with md5 0e964997b9816d332d6c9290f1e202b9 and a total number of 941 components indexed\n",
      "/home/jy/anaconda3/envs/baichuan2/lib/python3.11/site-packages/tqdm/auto.py:21: TqdmWarning: IProgress not found. Please update jupyter and ipywidgets. See https://ipywidgets.readthedocs.io/en/stable/user_install.html\n",
      "  from .autonotebook import tqdm as notebook_tqdm\n"
     ]
    }
   ],
   "source": [
    "from llm_adapter import RAG_Chroma"
   ]
  },
  {
   "cell_type": "code",
   "execution_count": 2,
   "metadata": {},
   "outputs": [
    {
     "name": "stderr",
     "output_type": "stream",
     "text": [
      "2024-07-08 19:06:27,756 - INFO - Load pretrained SentenceTransformer: /data/usr/jy/asset/tokenizer/m3e-base\n"
     ]
    },
    {
     "name": "stderr",
     "output_type": "stream",
     "text": [
      "2024-07-08 19:06:28,787 - INFO - Use pytorch device: cuda\n",
      "2024-07-08 19:06:29,190 - DEBUG - Registering provider: token_config\n",
      "2024-07-08 19:06:29,192 - DEBUG - Registering provider: user_token_config\n",
      "2024-07-08 19:06:29,195 - DEBUG - Registering provider: token\n",
      "2024-07-08 19:06:29,196 - DEBUG - Registering provider: token\n",
      "2024-07-08 19:06:29,203 - INFO - Anonymized telemetry enabled. See                     https://docs.trychroma.com/telemetry for more information.\n",
      "2024-07-08 19:06:29,298 - DEBUG - Starting component System\n",
      "2024-07-08 19:06:29,299 - DEBUG - Starting component Posthog\n",
      "2024-07-08 19:06:29,299 - DEBUG - Starting component OpenTelemetryClient\n",
      "2024-07-08 19:06:29,299 - DEBUG - Starting component SimpleAssignmentPolicy\n",
      "2024-07-08 19:06:29,300 - DEBUG - Starting component SqliteDB\n",
      "2024-07-08 19:06:29,643 - DEBUG - Starting component LocalSegmentManager\n",
      "2024-07-08 19:06:29,644 - DEBUG - Starting component SegmentAPI\n",
      "2024-07-08 19:06:30,148 - DEBUG - Starting new HTTPS connection (1): app.posthog.com:443\n",
      "Batches:   0%|          | 0/253 [00:00<?, ?it/s]2024-07-08 19:06:30,813 - DEBUG - https://app.posthog.com:443 \"POST /batch/ HTTP/1.1\" 200 15\n",
      "Batches: 100%|██████████| 253/253 [01:33<00:00,  2.70it/s]\n",
      "2024-07-08 19:08:05,077 - DEBUG - Starting component PersistentLocalHnswSegment\n"
     ]
    }
   ],
   "source": [
    "rag=RAG_Chroma()"
   ]
  },
  {
   "cell_type": "markdown",
   "metadata": {},
   "source": [
    "1. 雷诺发现了管路中液体流动时具有哪两种状态    层流，紊流\n",
    "> 英国物理学家雷诺通过大量实验，发现了液体在管路中流动时存在的两种流动状态--层流和紊流。\n",
    "\n",
    "2. 影响磷酸酯抗燃液压油使用性能和寿命的主要因素有哪些    水解劣化，热裂解劣化及氧化劣化 （水分，高温及氧气）\n",
    "> 由于磷酸酯分子的特殊性，在使用过程中的水分，高温及氧气均会导致磷酸酯抗燃液压油劣化。为此对磷酸酯抗燃液压油的发展和劣化（水解劣化，热裂解劣化及氧化劣化）机制进行了综述\n",
    "\n",
    "3. 航空器上的液压设备为什么要选择闭式回路啊   为减小体积和质量\n",
    "> 对于行走机械和航空航天液压装置，为减小体积和质量，可选择闭式回路，即执行元件的排油直接进入液压泵的进口。\n",
    "\n",
    "4. 零下一百二十摄氏度的环境下使用O形密封圈，应该选用橡胶，聚四氟乙烯，还是空心金属材质的     空心金属\n",
    ">  (1)聚四氟乙烯O形密封圈它比橡胶O形密封圈耐寒、耐热，其使用温度范围为-100～130℃   2)空心金属O形密封圈空心金属O形密封圈是用薄壁不锈钢管或镍合金管焊接而成的高精度环形圈。其密封特点是：1) 适用温度范围广(-250～540℃)。\n",
    "\n",
    "5. NAS 1638固体颗粒污染物按照微粒大小分成了那五个等级\n",
    "> NAS 1638油液固体颗粒污染度等级本标准将油液中的颗粒按尺寸大小分为5~15µm、15~25µm、25~50µm、50~100µm和大于100µm五个尺寸段\n",
    "\n",
    "6. 举一个浙大研究液压的网站\n",
    "> 2、有关网站中国液压气动网（www.yeyanet.com.cn) 浙江大学国家电液控制工程技术研究中心(www.cnehc.com)\n",
    "\n",
    "7. Q2-8液压起重机的特点\n",
    "> Q2－8型汽车起重机的液压系统有如下几个特点。（1）该系统为单泵、开式、串联系统，采用了换向阀串联组合，不仅各机构的动作可以独立进行，而且在轻载作业时，可实现起升和回转复合动作，以提高工作效率。（2）系统中采用了平衡回路、锁紧回路和制动回路，保证了起重机的工作可靠，操作安全。（3）采用了三位四通手动换向阀换向，不仅可以灵活方便地控制换向动作，还可通过手柄操纵来控制流量，实现节流调速。在起升工作中，将此节流调速方法与控制发动机转速的方法结合使用，可以实现各工作部件微速动作。（4）各三位四通手动换向阀均采用了M型中位机能，使换向阀处于中位时能使系统卸荷，可减少系统的功率损失，适宜于起重机进行间歇性工作\n",
    "\n",
    "8. 什么是液压振动\n",
    "> 液压振动指利用液体的压力能在动力系统的供压和伺服阀的控制下实现振动台的上下正玄运动。\n",
    "\n",
    "9. 世界上第一台水压机是由谁在哪里发明的\n",
    "> 1795年英国约瑟夫·布拉曼(Joseph Braman,1749-1814)，在伦敦用水作为工作介质,以水压机的形式将其应用于工业上,诞生了世界上第一台水压机。\n",
    "\n",
    "10. 根据柯兵的研究成果，怎么样减少泵的压力脉动\n",
    "> 柯兵等[33]对柱塞泵的压力脉动抑制方法进行了研究，在系统安装缓冲瓶的基础上，对柱塞目对液压泵的压力脉动的衰减效果进行了试验分析，结果表明，在定转速变流量和定流量变转速条件下，柱塞数为9和11的液压泵最大压力脉动分别为0.3 MPa、1.95 MPa和1.28 MPa、3.3 MPa。因此，选择合理的柱塞数配合缓冲瓶可抑制泵的压力脉动。\n",
    "\n",
    "MIKOTA，欧阳小平和陈杰设计的脉动衰减器有哪些相同和不同之处\""
   ]
  },
  {
   "cell_type": "code",
   "execution_count": 25,
   "metadata": {},
   "outputs": [
    {
     "name": "stderr",
     "output_type": "stream",
     "text": [
      "Batches: 100%|██████████| 1/1 [00:00<00:00, 54.46it/s]"
     ]
    },
    {
     "name": "stdout",
     "output_type": "stream",
     "text": [
      "269 字 .747 294 4 Hz，此优化结果也验证了该方法的可行性。图7 三自由度H型脉动衰减器下载原图\n",
      "2015年11月，浙江大学的欧阳小平等[12]提出基于拓扑结构的脉动衰减器。如图8所示，该脉动衰减器的各管路之间以T形节点连接，可以分布在不同平面上，避免了大容腔及长细管的使用，使得该脉动衰减器可以通过调整自身的形状适应不同的安装空间。图8 新型拓扑结构的共振型脉动衰减器下载原图\n",
      "2016年2月，长沙理工大学的贺尚红等[13,14,15]基于耳蜗基底膜仿生结构，设计了一种仿生结构振动式脉动衰减器。如图9所示，该脉动衰减器的工作原理如下\n",
      "461 字 .2.1. 1 共振型脉动衰减器共振型脉动衰减器主要由H型脉动衰减器、薄板振动型脉动衰减器、质量-弹簧振动型脉动衰减器、柔性衬里式脉动衰减器以及蓄能器组成，其中蓄能器和H型脉动衰减器，则属于脉动衰减器中应用最为广泛的几类。\n",
      "2003年，MIKOTA等[5]对于液压系统的流体脉动问题，设计了的一种具有等效液压弹簧、可调节的质量弹簧脉动衰减器。如图1所示，活塞颈部与衰减器壳体形成的间隙，使脉流体在液压容腔内形成一个液压弹簧，来缓慢平衡系统和衰减器腔内压力；刚性弹簧用来支撑活塞，并使活塞能处于腔体的中心位置。通过腔体长度的变化改变弹簧刚度，从而更好衰减液压系统的流体脉动。图1 H质量-弹簧振动型脉动衰减器下载原图\n",
      "2007年，长安大学的卡玛尔[6]对图2所示的H型脉动衰减器进行了研究，此衰减器依靠颈部液柱的往复运动(液柱在流体的脉动压力作用下做往复运动)和自身重量及管路阻尼作用，抑制压力脉动引起的流体流速的变化。在0～1 200 Hz频率范围内、颈部直径d为0.008 m、颈部长度L为0.012 m、容腔容积V为0\n",
      "405 字 ：衰减器的入口压力和出口压力分别在5～10 MPa和7.2～7.8MPa之间波动，其衰减率为88%左右，同时根据不同脉动频率下的出口压力得出，一级脉动衰减器对高频脉动抑制更有效。图1 4 一级扩张室型脉动衰减器下载原图\n",
      "2012年，北京航空航天大学的GUAN等[26]对研究了由扩张室和质量弹簧构成的一种同轴RAFPA扩张室型脉动衰减器，如图15所示。基于传输矩阵模型，对同轴RAFPA扩张室和普通扩张室型脉动衰减器在0～1 500 Hz的频率范围内的衰减特性进行对比分析，结果表明：两种衰减器的传输损耗均呈现先增加后降低的趋势；在0～1 200 Hz左右的频率范围内，同轴RAFPA的衰减效果由于普通扩张室且峰值传输损耗为68 d B左右，而在1 200～1 500 Hz则相反。同时研究了质量弹簧阻尼系统的固有频率分别为150 Hz、450 Hz和600 Hz时对同轴RAFPA衰减效果效果的影响，结果表明\n",
      "437 字 .67 MPa、0.61 MPa和0.27 MPa。并且在考虑工程实际应用条件后，认为该液压消声器应用效果更佳。\n",
      "2019年，针对航空液压系统消除压力脉动、提升系统可靠性和寿命的需求，北京航空航天大学的马纪明等[22]设计了一种压力脉动消除器，将其安装于泵的出口端来消除系统的压力脉动。该消除器具有无运动部件、布局紧凑、匹配度高的优点。试验表明，在300～500 Hz的频率范围内，可抑制10 d B的压力脉动。图1 2 新型液压消声器下载原图\n",
      "2019年，哈尔滨工业大学的陈杰[23]研究了一种质量-弹簧振子系统的脉动衰减器，如图13所示。根据衰减器的CFD数值仿真，先提出用“声学长度”代替衰减器颈部实际长度，预测其谐振频率；又提出用活塞表面压力中心的偏移补偿螺旋弹簧的受压偏斜，强化衰减器的脉动抑制能力。通过仿真和验证表明，这种优化后的脉动衰减器在160～384 Hz的频率范围内的传递损失为12.5 d B。图1 3 质量-弹簧振子系统脉动衰减器下载原图\n",
      "1.2.1\n"
     ]
    },
    {
     "name": "stderr",
     "output_type": "stream",
     "text": [
      "\n"
     ]
    }
   ],
   "source": [
    "query=\"MIKOTA，欧阳小平和陈杰设计的脉动衰减器有哪些相同和不同之处\"\n",
    "rag_docs=rag.query(query)\n",
    "for r in rag_docs:\n",
    "    print(len(r.page_content), \"字\", r.page_content)"
   ]
  }
 ],
 "metadata": {
  "kernelspec": {
   "display_name": "baichuan2",
   "language": "python",
   "name": "python3"
  },
  "language_info": {
   "codemirror_mode": {
    "name": "ipython",
    "version": 3
   },
   "file_extension": ".py",
   "mimetype": "text/x-python",
   "name": "python",
   "nbconvert_exporter": "python",
   "pygments_lexer": "ipython3",
   "version": "3.11.5"
  }
 },
 "nbformat": 4,
 "nbformat_minor": 2
}
