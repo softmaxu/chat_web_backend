{
 "cells": [
  {
   "cell_type": "code",
   "execution_count": 1,
   "metadata": {},
   "outputs": [],
   "source": [
    "from langchain_community.document_loaders import TextLoader\n",
    "from langchain_community.embeddings.sentence_transformer import (\n",
    "    SentenceTransformerEmbeddings,\n",
    ")\n",
    "from langchain_community.vectorstores import Chroma\n",
    "from langchain.text_splitter import CharacterTextSplitter\n",
    "from langchain.text_splitter import RecursiveCharacterTextSplitter"
   ]
  },
  {
   "cell_type": "code",
   "execution_count": 2,
   "metadata": {},
   "outputs": [],
   "source": [
    "loader = TextLoader(\"all.txt\")\n",
    "documents = loader.load()"
   ]
  },
  {
   "cell_type": "code",
   "execution_count": 3,
   "metadata": {},
   "outputs": [
    {
     "name": "stderr",
     "output_type": "stream",
     "text": [
      "/home/jy/anaconda3/envs/baichuan2/lib/python3.11/site-packages/tqdm/auto.py:21: TqdmWarning: IProgress not found. Please update jupyter and ipywidgets. See https://ipywidgets.readthedocs.io/en/stable/user_install.html\n",
      "  from .autonotebook import tqdm as notebook_tqdm\n"
     ]
    },
    {
     "data": {
      "text/plain": [
       "1054"
      ]
     },
     "execution_count": 3,
     "metadata": {},
     "output_type": "execute_result"
    }
   ],
   "source": [
    "text_splitter = RecursiveCharacterTextSplitter(chunk_size=200, chunk_overlap=0)\n",
    "docs = text_splitter.split_documents(documents)\n",
    "embedding_function = SentenceTransformerEmbeddings(model_name=\"/data/usr/jy/asset/m3e-base\")\n",
    "len(docs)"
   ]
  },
  {
   "cell_type": "code",
   "execution_count": 7,
   "metadata": {},
   "outputs": [
    {
     "name": "stdout",
     "output_type": "stream",
     "text": [
      "数据库目录 ./chroma_db 不存在。\n"
     ]
    }
   ],
   "source": [
    "import shutil\n",
    "import os\n",
    "\n",
    "# 数据库持久化目录路径\n",
    "persist_directory = \"./chroma_db\"\n",
    "\n",
    "# 检查目录是否存在\n",
    "if os.path.exists(persist_directory):\n",
    "    # 使用shutil.rmtree删除目录及其所有内容\n",
    "    shutil.rmtree(persist_directory)\n",
    "    print(f\"数据库目录 {persist_directory} 已被删除。\")\n",
    "else:\n",
    "    print(f\"数据库目录 {persist_directory} 不存在。\")"
   ]
  },
  {
   "cell_type": "code",
   "execution_count": 23,
   "metadata": {},
   "outputs": [
    {
     "data": {
      "text/plain": [
       "4216"
      ]
     },
     "execution_count": 23,
     "metadata": {},
     "output_type": "execute_result"
    }
   ],
   "source": [
    "db = Chroma.from_documents(docs, embedding_function, persist_directory=\"./chroma_demo_db\")\n",
    "db._collection.count()"
   ]
  },
  {
   "cell_type": "code",
   "execution_count": 12,
   "metadata": {},
   "outputs": [
    {
     "ename": "AttributeError",
     "evalue": "'Chroma' object has no attribute 'add_document'",
     "output_type": "error",
     "traceback": [
      "\u001b[0;31m---------------------------------------------------------------------------\u001b[0m",
      "\u001b[0;31mAttributeError\u001b[0m                            Traceback (most recent call last)",
      "Cell \u001b[0;32mIn[12], line 12\u001b[0m\n\u001b[1;32m      9\u001b[0m     \u001b[38;5;66;03m# 对每个块生成向量并存储到数据库中\u001b[39;00m\n\u001b[1;32m     10\u001b[0m     \u001b[38;5;28;01mfor\u001b[39;00m chunk \u001b[38;5;129;01min\u001b[39;00m chunks:\n\u001b[1;32m     11\u001b[0m         \u001b[38;5;66;03m# 假设db.add_document(chunk)是添加单个块到数据库的方法\u001b[39;00m\n\u001b[0;32m---> 12\u001b[0m         \u001b[43mdb\u001b[49m\u001b[38;5;241;43m.\u001b[39;49m\u001b[43madd_document\u001b[49m(chunk)\n\u001b[1;32m     14\u001b[0m \u001b[38;5;66;03m# 假设有一个finalize方法来完成数据库构建后的最终步骤\u001b[39;00m\n\u001b[1;32m     15\u001b[0m db\u001b[38;5;241m.\u001b[39mfinalize()\n",
      "\u001b[0;31mAttributeError\u001b[0m: 'Chroma' object has no attribute 'add_document'"
     ]
    }
   ],
   "source": [
    "# 加载\n",
    "db = Chroma(persist_directory=\"./chroma_demo_db\", embedding_function=embedding_function)\n",
    "document_paths = [\"/data/usr/jy/Dataset/knowledge/毕业设计.txt\", \"/data/usr/jy/Dataset/knowledge/常用塑料知识.txt\",\"/data/usr/jy/Dataset/knowledge/成型品不良的基本对策.txt\"]\n",
    "for doc_path in document_paths:\n",
    "    loader = TextLoader(doc_path)\n",
    "    documents = loader.load()\n",
    "    # 使用RecursiveCharacterTextSplitter分割文档\n",
    "    chunks = text_splitter.split_documents(documents)  # 假设split方法返回文档的分段列表\n",
    "    # 对每个块生成向量并存储到数据库中\n",
    "    for chunk in chunks:\n",
    "        # 假设db.add_document(chunk)是添加单个块到数据库的方法\n",
    "        db._collection_.method().add(chunk)\n",
    "\n",
    "# 假设有一个finalize方法来完成数据库构建后的最终步骤\n",
    "db.finalize()"
   ]
  },
  {
   "cell_type": "code",
   "execution_count": 26,
   "metadata": {},
   "outputs": [
    {
     "name": "stderr",
     "output_type": "stream",
     "text": [
      "Delete of nonexisting embedding ID: 4\n",
      "Delete of nonexisting embedding ID: 4\n"
     ]
    }
   ],
   "source": [
    "# 删除\n",
    "ids = [str(i) for i in range(1, len(docs) + 1)]\n",
    "db._collection.delete(ids=[ids[-1]])"
   ]
  },
  {
   "cell_type": "code",
   "execution_count": 27,
   "metadata": {},
   "outputs": [
    {
     "data": {
      "text/plain": [
       "4216"
      ]
     },
     "execution_count": 27,
     "metadata": {},
     "output_type": "execute_result"
    }
   ],
   "source": [
    "db._collection.count()"
   ]
  },
  {
   "cell_type": "code",
   "execution_count": 25,
   "metadata": {},
   "outputs": [
    {
     "name": "stdout",
     "output_type": "stream",
     "text": [
      "(1)聚酯树脂,机械强度高,成形方法容易,化学性能稳定。\n",
      "(2)酚醛树脂,质脆,必须加入填料方能获得所要求的性能,价格低廉。\n",
      "(3)环氧树脂,收缩率最小,机械性能高,耐酸、碱、盐和有机溶剂等化学药品的侵蚀,但抗冲击性能低,质脆,需加填充剂、稀释剂等来改善其性能。\n",
      "(4)塑料钢,可作拉深模,其缺点是价格昂贵。\n",
      "2)树脂模具的制作工艺\n",
      "制作工艺过程如下:\n",
      "(4)逆向工程技术制造模具零件\n"
     ]
    }
   ],
   "source": [
    "query = \"抛光树脂\"\n",
    "docs = db.similarity_search(query)\n",
    "print(docs[0].page_content)"
   ]
  }
 ],
 "metadata": {
  "kernelspec": {
   "display_name": "baichuan2",
   "language": "python",
   "name": "python3"
  },
  "language_info": {
   "codemirror_mode": {
    "name": "ipython",
    "version": 3
   },
   "file_extension": ".py",
   "mimetype": "text/x-python",
   "name": "python",
   "nbconvert_exporter": "python",
   "pygments_lexer": "ipython3",
   "version": "3.11.5"
  }
 },
 "nbformat": 4,
 "nbformat_minor": 2
}
